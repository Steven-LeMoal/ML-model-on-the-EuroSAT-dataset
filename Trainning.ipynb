{
  "cells": [
    {
      "cell_type": "markdown",
      "metadata": {
        "id": "LJqVZzyJvXBW"
      },
      "source": [
        "# Image Classification Task for ML Internship 2023\n",
        "\n",
        "Task - Your task is to train a ML model on the EuroSAT land cover classification dataset.\n",
        "\n",
        "Dataset link- Dataset. The dataset contains 64x64 RGB images from Sentinel-2.\n",
        "You can find references to the dataset here - https://github.com/phelber/EuroSAT\n",
        "\n",
        "Training [Jupyter notebook]: Include all steps from loading the dataset, to\n",
        "saving the model and evaluation metrics.\n",
        "\n",
        "**Plan:**\n",
        "  1. **Librairies import**\n",
        "  2. **Data loading & preprocessing**\n",
        "  4. **Model compilation**\n",
        "  5. **Model trainning**"
      ]
    },
    {
      "cell_type": "markdown",
      "metadata": {
        "id": "NtkGkHSxwE5J"
      },
      "source": [
        "# Librairies import"
      ]
    },
    {
      "cell_type": "code",
      "execution_count": 58,
      "metadata": {
        "colab": {
          "base_uri": "https://localhost:8080/"
        },
        "id": "pZ4EkvsiuX_z",
        "outputId": "28bf83de-e3cf-43db-f81e-f50594eaa2ae"
      },
      "outputs": [
        {
          "output_type": "stream",
          "name": "stdout",
          "text": [
            "Drive already mounted at /content/drive; to attempt to forcibly remount, call drive.mount(\"/content/drive\", force_remount=True).\n"
          ]
        }
      ],
      "source": [
        "import tensorflow as tf\n",
        "from tensorflow.keras.preprocessing.image import ImageDataGenerator\n",
        "from tensorflow.data.experimental import assert_cardinality\n",
        "from keras import applications\n",
        "from keras.callbacks import ModelCheckpoint\n",
        "from keras.callbacks import EarlyStopping  \n",
        "\n",
        "import numpy as np\n",
        "import pandas as pd\n",
        "import matplotlib.pyplot as plt\n",
        "\n",
        "import os\n",
        "import random\n",
        "import shutil\n",
        "from google.colab import drive\n",
        "import zipfile\n",
        "\n",
        "drive.mount('/content/drive')"
      ]
    },
    {
      "cell_type": "markdown",
      "metadata": {
        "id": "y2hqqnqrwWUt"
      },
      "source": [
        "# Data Loading & Preprocessing"
      ]
    },
    {
      "cell_type": "markdown",
      "metadata": {
        "id": "VTjjJZwr3UBB"
      },
      "source": [
        "we begin by unzip the EUROSTAR.zip file"
      ]
    },
    {
      "cell_type": "code",
      "execution_count": 59,
      "metadata": {
        "id": "p19GadbV3C2w"
      },
      "outputs": [],
      "source": [
        "path_to_zip = '/content/drive/MyDrive/dataset/'"
      ]
    },
    {
      "cell_type": "code",
      "source": [
        "def extract_dataset_zip():\n",
        "  with zipfile.ZipFile(path_to_zip + 'EuroSAT.zip', 'r') as zip_ref:\n",
        "      zip_ref.extractall(path_to_zip)\n",
        "\n",
        "#extract_dataset_zip()"
      ],
      "metadata": {
        "id": "j4NxulTK6BHz"
      },
      "execution_count": 60,
      "outputs": []
    },
    {
      "cell_type": "code",
      "execution_count": 61,
      "metadata": {
        "id": "pL92o5UOwZ1v"
      },
      "outputs": [],
      "source": [
        "#path of the dataset\n",
        "dataset_path = '/content/drive/MyDrive/dataset/2750/'"
      ]
    },
    {
      "cell_type": "code",
      "execution_count": 62,
      "metadata": {
        "id": "4lXmlVt5w3yr"
      },
      "outputs": [],
      "source": [
        "#properties for the trainning\n",
        "batch_size = 128\n",
        "epochs = 50\n",
        "\n",
        "#properties of the image\n",
        "img_height = 64\n",
        "img_width = 64"
      ]
    },
    {
      "cell_type": "code",
      "execution_count": 63,
      "metadata": {
        "id": "efWBdpSm0IcX",
        "colab": {
          "base_uri": "https://localhost:8080/"
        },
        "outputId": "29c45366-fa70-4faf-b0a8-38866dde8861"
      },
      "outputs": [
        {
          "output_type": "stream",
          "name": "stdout",
          "text": [
            "classe 0 : River\n",
            "classe 1 : AnnualCrop\n",
            "classe 2 : HerbaceousVegetation\n",
            "classe 3 : Industrial\n",
            "classe 4 : Residential\n",
            "classe 5 : Highway\n",
            "classe 6 : Pasture\n",
            "classe 7 : Forest\n",
            "classe 8 : SeaLake\n",
            "classe 9 : PermanentCrop\n"
          ]
        }
      ],
      "source": [
        "#classes\n",
        "CLASSES = os.listdir(dataset_path)\n",
        "for i, e in enumerate(CLASSES):\n",
        "  print(f'classe {i} : {e}')"
      ]
    },
    {
      "cell_type": "code",
      "source": [
        "# Loop over all classes and add all image paths to a list\n",
        "all_image_paths = []\n",
        "for class_name in CLASSES:\n",
        "    class_path = os.path.join(dataset_path, class_name)\n",
        "    image_names = os.listdir(class_path)\n",
        "    #idx_class = CLASSES.index(class_name)\n",
        "    for image_name in image_names:\n",
        "        image_path = os.path.join(class_path, image_name)\n",
        "        #all_image_paths.append((image_path,idx_class))\n",
        "        all_image_paths.append((image_path,class_name))\n",
        "\n",
        "# Randomly select 20 images for the test set\n",
        "random.shuffle(all_image_paths)\n",
        "test_image_paths = all_image_paths[:20]\n",
        "train_val_image_paths = all_image_paths[20:4000]\n",
        "#we take 4000 images (total)\n",
        "\n",
        "# Split the remaining images into training and validation sets\n",
        "random.shuffle(train_val_image_paths)\n",
        "num_train_samples = int(0.8 * len(train_val_image_paths))\n",
        "train_image_paths = train_val_image_paths[:num_train_samples]\n",
        "val_image_paths = train_val_image_paths[num_train_samples:]"
      ],
      "metadata": {
        "id": "EqjYU45XXAPq"
      },
      "execution_count": 64,
      "outputs": []
    },
    {
      "cell_type": "code",
      "source": [
        "def set_to_csv(data, file_name):\n",
        "      df = pd.DataFrame(data, columns=['path', 'label'])\n",
        "      df.to_csv(file_name, index=False)\n",
        "      return df"
      ],
      "metadata": {
        "id": "kZXMF-xslPsy"
      },
      "execution_count": 65,
      "outputs": []
    },
    {
      "cell_type": "code",
      "source": [
        "# Create files to store image paths and class labels for each set\n",
        "train_file_path = \"train.csv\"\n",
        "val_file_path = \"validation.csv\"\n",
        "test_file_path = \"test.csv\""
      ],
      "metadata": {
        "id": "tK4a3bKGY2AS"
      },
      "execution_count": 66,
      "outputs": []
    },
    {
      "cell_type": "code",
      "source": [
        "train_df = set_to_csv(train_image_paths, train_file_path)\n",
        "val_df = set_to_csv(val_image_paths, val_file_path)\n",
        "test_df = set_to_csv(test_image_paths, test_file_path)"
      ],
      "metadata": {
        "id": "JQC7mXajYq8B"
      },
      "execution_count": 67,
      "outputs": []
    },
    {
      "cell_type": "code",
      "execution_count": 68,
      "metadata": {
        "id": "UNtifwh_wmt9"
      },
      "outputs": [],
      "source": [
        "#preprocessing\n",
        "train_datagen = ImageDataGenerator(\n",
        "    rescale=1./255,\n",
        "    rotation_range=20,\n",
        "    width_shift_range=0.1,\n",
        "    height_shift_range=0.1,\n",
        "    shear_range=0.1,\n",
        "    zoom_range=0.1,\n",
        "    horizontal_flip=True)\n",
        "\n",
        "# Normalize the validation set\n",
        "val_datagen = ImageDataGenerator(rescale=1./255)"
      ]
    },
    {
      "cell_type": "code",
      "source": [
        "# Create a training data generator\n",
        "train_generator = train_datagen.flow_from_dataframe(\n",
        "    dataframe=train_df,\n",
        "    directory='',\n",
        "    x_col='path',\n",
        "    y_col='label',\n",
        "    target_size=(img_height, img_width),\n",
        "    batch_size=batch_size,\n",
        "    class_mode='categorical',\n",
        "    subset='training'\n",
        ")"
      ],
      "metadata": {
        "colab": {
          "base_uri": "https://localhost:8080/"
        },
        "id": "ykQ-t9F-miDn",
        "outputId": "b2d9b04b-117e-4e69-b357-bb431fbdf031"
      },
      "execution_count": 69,
      "outputs": [
        {
          "output_type": "stream",
          "name": "stdout",
          "text": [
            "Found 3184 validated image filenames belonging to 10 classes.\n"
          ]
        }
      ]
    },
    {
      "cell_type": "code",
      "source": [
        "# Create a validation data generator\n",
        "val_generator = val_datagen.flow_from_dataframe(\n",
        "    dataframe=val_df,\n",
        "    directory='',\n",
        "    x_col='path',\n",
        "    y_col='label',\n",
        "    target_size=(img_height, img_width),\n",
        "    batch_size=batch_size,\n",
        "    class_mode='categorical',\n",
        "    subset='training'\n",
        ")"
      ],
      "metadata": {
        "colab": {
          "base_uri": "https://localhost:8080/"
        },
        "id": "4NWXMtBMpoG2",
        "outputId": "97f8c08d-36fd-4c5d-df13-69671b303ffa"
      },
      "execution_count": 70,
      "outputs": [
        {
          "output_type": "stream",
          "name": "stdout",
          "text": [
            "Found 796 validated image filenames belonging to 10 classes.\n"
          ]
        }
      ]
    },
    {
      "cell_type": "code",
      "source": [
        "num_images_train = len(train_generator.filepaths)\n",
        "print(\"Number of images:\", num_images_train)\n",
        "num_images_validation = len(val_generator.filepaths)\n",
        "print(\"Number of images:\", num_images_validation)"
      ],
      "metadata": {
        "colab": {
          "base_uri": "https://localhost:8080/"
        },
        "id": "QEXMIEmXIRoI",
        "outputId": "253d8cef-e2db-43ab-cc7c-8b7e0722261c"
      },
      "execution_count": 71,
      "outputs": [
        {
          "output_type": "stream",
          "name": "stdout",
          "text": [
            "Number of images: 3184\n",
            "Number of images: 796\n"
          ]
        }
      ]
    },
    {
      "cell_type": "code",
      "source": [
        "nb = len(CLASSES)"
      ],
      "metadata": {
        "id": "lX07y6qcBavS"
      },
      "execution_count": 72,
      "outputs": []
    },
    {
      "cell_type": "markdown",
      "source": [
        "convert generator to tf dataset (for option such as cache, prefetch...)"
      ],
      "metadata": {
        "id": "OoFDQshPC6Qv"
      }
    },
    {
      "cell_type": "code",
      "source": [
        "# train_ds = tf.data.Dataset.from_generator(\n",
        "#     lambda: train_generator,\n",
        "#     output_types = (tf.float32, tf.float32),\n",
        "#     output_shapes = ([batch_size, img_height, img_width, 3], [batch_size, nb]),\n",
        "# )\n",
        "\n",
        "# valid_ds = tf.data.Dataset.from_generator(\n",
        "#     lambda: val_generator,\n",
        "#     output_types = (tf.float32, tf.float32),\n",
        "#     output_shapes = ([batch_size, img_height, img_width, 3], [batch_size, nb]),\n",
        "# )"
      ],
      "metadata": {
        "id": "FBxrXG-fBLIl"
      },
      "execution_count": 73,
      "outputs": []
    },
    {
      "cell_type": "code",
      "source": [
        "#attention RAM prefetch\n",
        "#AUTOTUNE = tf.data.experimental.AUTOTUNE"
      ],
      "metadata": {
        "id": "3gHVuY7NC3Mu"
      },
      "execution_count": 74,
      "outputs": []
    },
    {
      "cell_type": "code",
      "source": [
        "#train_ds = train_ds.apply(assert_cardinality(num_images_train//batch_size)).prefetch(buffer_size=1024).cache()#.batch(BS,num_parallel_calls=True)\n",
        "#valid_ds = valid_ds.apply(assert_cardinality(num_images_validation//batch_size)).prefetch(buffer_size=1024).cache()#.batch(BS,num_parallel_calls=True)"
      ],
      "metadata": {
        "id": "p1ciLZiSCzgj"
      },
      "execution_count": 75,
      "outputs": []
    },
    {
      "cell_type": "markdown",
      "metadata": {
        "id": "SaP4i87awdfL"
      },
      "source": [
        "# Model compilation"
      ]
    },
    {
      "cell_type": "code",
      "execution_count": 76,
      "metadata": {
        "id": "U0SpvRP5xwMZ",
        "colab": {
          "base_uri": "https://localhost:8080/"
        },
        "outputId": "99ad2b2b-f39d-414b-cbb7-447487f14bdf"
      },
      "outputs": [
        {
          "output_type": "stream",
          "name": "stdout",
          "text": [
            "['ConvNeXtBase', 'ConvNeXtLarge', 'ConvNeXtSmall', 'ConvNeXtTiny', 'ConvNeXtXLarge', 'DenseNet121', 'DenseNet169', 'DenseNet201', 'EfficientNetB0', 'EfficientNetB1', 'EfficientNetB2', 'EfficientNetB3', 'EfficientNetB4', 'EfficientNetB5', 'EfficientNetB6', 'EfficientNetB7', 'EfficientNetV2B0', 'EfficientNetV2B1', 'EfficientNetV2B2', 'EfficientNetV2B3', 'EfficientNetV2L', 'EfficientNetV2M', 'EfficientNetV2S', 'InceptionResNetV2', 'InceptionV3', 'MobileNet', 'MobileNetV2', 'MobileNetV3Large', 'MobileNetV3Small', 'NASNetLarge', 'NASNetMobile', 'ResNet101', 'ResNet101V2', 'ResNet152', 'ResNet152V2', 'ResNet50', 'ResNet50V2', 'ResNetRS101', 'ResNetRS152', 'ResNetRS200', 'ResNetRS270', 'ResNetRS350', 'ResNetRS420', 'ResNetRS50', 'VGG16', 'VGG19', 'Xception', 'convnext', 'densenet', 'efficientnet', 'efficientnet_v2', 'imagenet_utils', 'inception_resnet_v2', 'inception_v3', 'mobilenet', 'mobilenet_v2', 'mobilenet_v3', 'nasnet', 'regnet', 'resnet', 'resnet_rs', 'resnet_v2', 'vgg16', 'vgg19', 'xception']\n"
          ]
        }
      ],
      "source": [
        "#differents pretrained models\n",
        "print([model_name for model_name in dir(applications) if not model_name.startswith('_')])"
      ]
    },
    {
      "cell_type": "code",
      "execution_count": 77,
      "metadata": {
        "id": "rIe6gblixp9u"
      },
      "outputs": [],
      "source": [
        "#I chose to add layers at the end of the model\n",
        "def Model_added_layers(pretrained_model):\n",
        "  last = pretrained_model.get_layer(pretrained_model.layers[-1].name).output# last layers of the pretrained model\n",
        "  x = tf.keras.layers.BatchNormalization()(last)\n",
        "  x = tf.keras.layers.Activation('relu')(x)\n",
        "  x = tf.keras.layers.GlobalAveragePooling2D()(x)\n",
        "  x = tf.keras.layers.BatchNormalization()(x)\n",
        "  x = tf.keras.layers.Dense(40, activation='relu')(x)\n",
        "  x = tf.keras.layers.Dropout(0.2)(x)\n",
        "  #output layers must correspond to the number of classes\n",
        "  outputs = tf.keras.layers.Dense(len(CLASSES), activation='softmax')(x)\n",
        "  model = tf.keras.Model(pretrained_model.input, outputs)\n",
        "  return model"
      ]
    },
    {
      "cell_type": "code",
      "execution_count": 78,
      "metadata": {
        "id": "6N3sTf2ywnFZ"
      },
      "outputs": [],
      "source": [
        "base_model = tf.keras.applications.ResNet50(weights='imagenet', include_top=False, input_shape=(64, 64, 3))"
      ]
    },
    {
      "cell_type": "code",
      "execution_count": 79,
      "metadata": {
        "id": "b2ba3DADx0bE"
      },
      "outputs": [],
      "source": [
        "model = Model_added_layers(base_model)"
      ]
    },
    {
      "cell_type": "code",
      "execution_count": 80,
      "metadata": {
        "id": "YoKbpKkcx24S"
      },
      "outputs": [],
      "source": [
        "#model.summary()"
      ]
    },
    {
      "cell_type": "code",
      "source": [
        "opt = tf.keras.optimizers.Adam(learning_rate=0.001)"
      ],
      "metadata": {
        "id": "H0MSzljI9KcH"
      },
      "execution_count": 81,
      "outputs": []
    },
    {
      "cell_type": "code",
      "execution_count": 82,
      "metadata": {
        "id": "IBQsNMqpx7Wy"
      },
      "outputs": [],
      "source": [
        "model.compile(optimizer=opt,loss='categorical_crossentropy', metrics=['accuracy'])"
      ]
    },
    {
      "cell_type": "markdown",
      "metadata": {
        "id": "b4ejQvAdwdle"
      },
      "source": [
        "# Model trainning"
      ]
    },
    {
      "cell_type": "code",
      "execution_count": 106,
      "metadata": {
        "id": "ss2MoGXQwnfZ"
      },
      "outputs": [],
      "source": [
        "#we need to save the best model during the trainning\n",
        "es = EarlyStopping(monitor='val_loss', mode='min', verbose=0, patience=20)\n",
        "mc = ModelCheckpoint('/content/drive/MyDrive/best_model_EuroStar.h5', monitor='val_loss', mode='min', verbose=1, save_best_only=True)"
      ]
    },
    {
      "cell_type": "code",
      "execution_count": 107,
      "metadata": {
        "id": "Ht-NyHrPx_5Z",
        "colab": {
          "base_uri": "https://localhost:8080/"
        },
        "outputId": "15ba68eb-6778-4aef-b9c3-557834cf9bdc"
      },
      "outputs": [
        {
          "output_type": "stream",
          "name": "stdout",
          "text": [
            "Epoch 1/50\n",
            "25/25 [==============================] - ETA: 0s - loss: 0.0509 - accuracy: 0.9840\n",
            "Epoch 1: val_loss improved from inf to 1.41087, saving model to /content/drive/MyDrive/best_model_EuroStar.h5\n",
            "25/25 [==============================] - 10s 403ms/step - loss: 0.0509 - accuracy: 0.9840 - val_loss: 1.4109 - val_accuracy: 0.7764\n",
            "Epoch 2/50\n",
            "25/25 [==============================] - ETA: 0s - loss: 0.0302 - accuracy: 0.9918\n",
            "Epoch 2: val_loss improved from 1.41087 to 1.20070, saving model to /content/drive/MyDrive/best_model_EuroStar.h5\n",
            "25/25 [==============================] - 10s 395ms/step - loss: 0.0302 - accuracy: 0.9918 - val_loss: 1.2007 - val_accuracy: 0.8229\n",
            "Epoch 3/50\n",
            "25/25 [==============================] - ETA: 0s - loss: 0.0386 - accuracy: 0.9903\n",
            "Epoch 3: val_loss improved from 1.20070 to 1.11384, saving model to /content/drive/MyDrive/best_model_EuroStar.h5\n",
            "25/25 [==============================] - 11s 427ms/step - loss: 0.0386 - accuracy: 0.9903 - val_loss: 1.1138 - val_accuracy: 0.8279\n",
            "Epoch 4/50\n",
            "25/25 [==============================] - ETA: 0s - loss: 0.0340 - accuracy: 0.9903\n",
            "Epoch 4: val_loss did not improve from 1.11384\n",
            "25/25 [==============================] - 9s 344ms/step - loss: 0.0340 - accuracy: 0.9903 - val_loss: 1.1839 - val_accuracy: 0.8141\n",
            "Epoch 5/50\n",
            "25/25 [==============================] - ETA: 0s - loss: 0.0320 - accuracy: 0.9915\n",
            "Epoch 5: val_loss did not improve from 1.11384\n",
            "25/25 [==============================] - 9s 350ms/step - loss: 0.0320 - accuracy: 0.9915 - val_loss: 1.7539 - val_accuracy: 0.7437\n",
            "Epoch 6/50\n",
            "25/25 [==============================] - ETA: 0s - loss: 0.0818 - accuracy: 0.9793\n",
            "Epoch 6: val_loss did not improve from 1.11384\n",
            "25/25 [==============================] - 9s 340ms/step - loss: 0.0818 - accuracy: 0.9793 - val_loss: 8.2051 - val_accuracy: 0.4347\n",
            "Epoch 7/50\n",
            "25/25 [==============================] - ETA: 0s - loss: 0.1653 - accuracy: 0.9585\n",
            "Epoch 7: val_loss did not improve from 1.11384\n",
            "25/25 [==============================] - 9s 341ms/step - loss: 0.1653 - accuracy: 0.9585 - val_loss: 24628.9590 - val_accuracy: 0.1068\n",
            "Epoch 8/50\n",
            "25/25 [==============================] - ETA: 0s - loss: 0.1530 - accuracy: 0.9557\n",
            "Epoch 8: val_loss did not improve from 1.11384\n",
            "25/25 [==============================] - 8s 339ms/step - loss: 0.1530 - accuracy: 0.9557 - val_loss: 4.0816 - val_accuracy: 0.3166\n",
            "Epoch 9/50\n",
            "25/25 [==============================] - ETA: 0s - loss: 0.0891 - accuracy: 0.9711\n",
            "Epoch 9: val_loss did not improve from 1.11384\n",
            "25/25 [==============================] - 8s 336ms/step - loss: 0.0891 - accuracy: 0.9711 - val_loss: 1.6117 - val_accuracy: 0.5930\n",
            "Epoch 10/50\n",
            "25/25 [==============================] - ETA: 0s - loss: 0.0724 - accuracy: 0.9786\n",
            "Epoch 10: val_loss did not improve from 1.11384\n",
            "25/25 [==============================] - 9s 342ms/step - loss: 0.0724 - accuracy: 0.9786 - val_loss: 1.5026 - val_accuracy: 0.7023\n",
            "Epoch 11/50\n",
            "25/25 [==============================] - ETA: 0s - loss: 0.0611 - accuracy: 0.9808\n",
            "Epoch 11: val_loss improved from 1.11384 to 1.05932, saving model to /content/drive/MyDrive/best_model_EuroStar.h5\n",
            "25/25 [==============================] - 12s 499ms/step - loss: 0.0611 - accuracy: 0.9808 - val_loss: 1.0593 - val_accuracy: 0.8003\n",
            "Epoch 12/50\n",
            "25/25 [==============================] - ETA: 0s - loss: 0.0519 - accuracy: 0.9830\n",
            "Epoch 12: val_loss did not improve from 1.05932\n",
            "25/25 [==============================] - 9s 345ms/step - loss: 0.0519 - accuracy: 0.9830 - val_loss: 1.1644 - val_accuracy: 0.7500\n",
            "Epoch 13/50\n",
            "25/25 [==============================] - ETA: 0s - loss: 0.0405 - accuracy: 0.9884\n",
            "Epoch 13: val_loss improved from 1.05932 to 0.26479, saving model to /content/drive/MyDrive/best_model_EuroStar.h5\n",
            "25/25 [==============================] - 12s 477ms/step - loss: 0.0405 - accuracy: 0.9884 - val_loss: 0.2648 - val_accuracy: 0.9259\n",
            "Epoch 14/50\n",
            "25/25 [==============================] - ETA: 0s - loss: 0.0295 - accuracy: 0.9918\n",
            "Epoch 14: val_loss did not improve from 0.26479\n",
            "25/25 [==============================] - 9s 340ms/step - loss: 0.0295 - accuracy: 0.9918 - val_loss: 0.4804 - val_accuracy: 0.8932\n",
            "Epoch 15/50\n",
            "25/25 [==============================] - ETA: 0s - loss: 0.0372 - accuracy: 0.9893\n",
            "Epoch 15: val_loss did not improve from 0.26479\n",
            "25/25 [==============================] - 9s 355ms/step - loss: 0.0372 - accuracy: 0.9893 - val_loss: 0.5041 - val_accuracy: 0.8769\n",
            "Epoch 16/50\n",
            "25/25 [==============================] - ETA: 0s - loss: 0.0280 - accuracy: 0.9912\n",
            "Epoch 16: val_loss did not improve from 0.26479\n",
            "25/25 [==============================] - 9s 344ms/step - loss: 0.0280 - accuracy: 0.9912 - val_loss: 0.5094 - val_accuracy: 0.8656\n",
            "Epoch 17/50\n",
            "25/25 [==============================] - ETA: 0s - loss: 0.0430 - accuracy: 0.9878\n",
            "Epoch 17: val_loss did not improve from 0.26479\n",
            "25/25 [==============================] - 9s 341ms/step - loss: 0.0430 - accuracy: 0.9878 - val_loss: 1.7340 - val_accuracy: 0.6721\n",
            "Epoch 18/50\n",
            "25/25 [==============================] - ETA: 0s - loss: 0.0329 - accuracy: 0.9887\n",
            "Epoch 18: val_loss did not improve from 0.26479\n",
            "25/25 [==============================] - 8s 338ms/step - loss: 0.0329 - accuracy: 0.9887 - val_loss: 2.1279 - val_accuracy: 0.6972\n",
            "Epoch 19/50\n",
            "25/25 [==============================] - ETA: 0s - loss: 0.0395 - accuracy: 0.9906\n",
            "Epoch 19: val_loss did not improve from 0.26479\n",
            "25/25 [==============================] - 8s 335ms/step - loss: 0.0395 - accuracy: 0.9906 - val_loss: 1.1910 - val_accuracy: 0.7902\n",
            "Epoch 20/50\n",
            "25/25 [==============================] - ETA: 0s - loss: 0.0368 - accuracy: 0.9899\n",
            "Epoch 20: val_loss did not improve from 0.26479\n",
            "25/25 [==============================] - 8s 338ms/step - loss: 0.0368 - accuracy: 0.9899 - val_loss: 0.2878 - val_accuracy: 0.9121\n",
            "Epoch 21/50\n",
            "25/25 [==============================] - ETA: 0s - loss: 0.0264 - accuracy: 0.9937\n",
            "Epoch 21: val_loss did not improve from 0.26479\n",
            "25/25 [==============================] - 8s 337ms/step - loss: 0.0264 - accuracy: 0.9937 - val_loss: 0.3236 - val_accuracy: 0.9183\n",
            "Epoch 22/50\n",
            "25/25 [==============================] - ETA: 0s - loss: 0.0220 - accuracy: 0.9928\n",
            "Epoch 22: val_loss did not improve from 0.26479\n",
            "25/25 [==============================] - 9s 341ms/step - loss: 0.0220 - accuracy: 0.9928 - val_loss: 0.3128 - val_accuracy: 0.9221\n",
            "Epoch 23/50\n",
            "25/25 [==============================] - ETA: 0s - loss: 0.0283 - accuracy: 0.9906\n",
            "Epoch 23: val_loss did not improve from 0.26479\n",
            "25/25 [==============================] - 9s 342ms/step - loss: 0.0283 - accuracy: 0.9906 - val_loss: 0.7322 - val_accuracy: 0.8480\n",
            "Epoch 24/50\n",
            "25/25 [==============================] - ETA: 0s - loss: 0.0210 - accuracy: 0.9953\n",
            "Epoch 24: val_loss did not improve from 0.26479\n",
            "25/25 [==============================] - 8s 336ms/step - loss: 0.0210 - accuracy: 0.9953 - val_loss: 0.2970 - val_accuracy: 0.9246\n",
            "Epoch 25/50\n",
            "25/25 [==============================] - ETA: 0s - loss: 0.0223 - accuracy: 0.9915\n",
            "Epoch 25: val_loss did not improve from 0.26479\n",
            "25/25 [==============================] - 9s 340ms/step - loss: 0.0223 - accuracy: 0.9915 - val_loss: 0.9654 - val_accuracy: 0.7877\n",
            "Epoch 26/50\n",
            "25/25 [==============================] - ETA: 0s - loss: 0.0253 - accuracy: 0.9925\n",
            "Epoch 26: val_loss did not improve from 0.26479\n",
            "25/25 [==============================] - 9s 340ms/step - loss: 0.0253 - accuracy: 0.9925 - val_loss: 1.1845 - val_accuracy: 0.7814\n",
            "Epoch 27/50\n",
            "25/25 [==============================] - ETA: 0s - loss: 0.0380 - accuracy: 0.9887\n",
            "Epoch 27: val_loss did not improve from 0.26479\n",
            "25/25 [==============================] - 8s 337ms/step - loss: 0.0380 - accuracy: 0.9887 - val_loss: 1.0340 - val_accuracy: 0.8945\n",
            "Epoch 28/50\n",
            "25/25 [==============================] - ETA: 0s - loss: 0.0251 - accuracy: 0.9925\n",
            "Epoch 28: val_loss did not improve from 0.26479\n",
            "25/25 [==============================] - 9s 348ms/step - loss: 0.0251 - accuracy: 0.9925 - val_loss: 0.4626 - val_accuracy: 0.8995\n",
            "Epoch 29/50\n",
            "25/25 [==============================] - ETA: 0s - loss: 0.0305 - accuracy: 0.9943\n",
            "Epoch 29: val_loss did not improve from 0.26479\n",
            "25/25 [==============================] - 9s 354ms/step - loss: 0.0305 - accuracy: 0.9943 - val_loss: 1.0328 - val_accuracy: 0.8116\n",
            "Epoch 30/50\n",
            "25/25 [==============================] - ETA: 0s - loss: 0.0379 - accuracy: 0.9871\n",
            "Epoch 30: val_loss did not improve from 0.26479\n",
            "25/25 [==============================] - 9s 347ms/step - loss: 0.0379 - accuracy: 0.9871 - val_loss: 0.6452 - val_accuracy: 0.8668\n",
            "Epoch 31/50\n",
            "25/25 [==============================] - ETA: 0s - loss: 0.0310 - accuracy: 0.9893\n",
            "Epoch 31: val_loss did not improve from 0.26479\n",
            "25/25 [==============================] - 9s 342ms/step - loss: 0.0310 - accuracy: 0.9893 - val_loss: 0.9317 - val_accuracy: 0.8266\n",
            "Epoch 32/50\n",
            "25/25 [==============================] - ETA: 0s - loss: 0.0362 - accuracy: 0.9896\n",
            "Epoch 32: val_loss did not improve from 0.26479\n",
            "25/25 [==============================] - 8s 337ms/step - loss: 0.0362 - accuracy: 0.9896 - val_loss: 3.5082 - val_accuracy: 0.5980\n",
            "Epoch 33/50\n",
            "25/25 [==============================] - ETA: 0s - loss: 0.0309 - accuracy: 0.9912\n",
            "Epoch 33: val_loss did not improve from 0.26479\n",
            "25/25 [==============================] - 8s 337ms/step - loss: 0.0309 - accuracy: 0.9912 - val_loss: 1.1061 - val_accuracy: 0.7676\n"
          ]
        }
      ],
      "source": [
        "#entrainement refais 5 fois (5 itérations)\n",
        "history = model.fit(train_generator,\n",
        "                    validation_data=val_generator, \n",
        "                    epochs=epochs, \n",
        "                    #batch_size=batch_size,\n",
        "                    steps_per_epoch=num_images_train//batch_size + 1,\n",
        "                    validation_steps=num_images_validation//batch_size + 1,\n",
        "                    verbose=1, \n",
        "                    callbacks = [es,mc])\n",
        "\n",
        "                    #steps_per_epoch=int(num_images_train / batch_size),\n",
        "                    #validation_steps=int(num_images_validation / batch_size))\n",
        "\n",
        "#saved_model1 = load_model('best_model1.h5')"
      ]
    },
    {
      "cell_type": "code",
      "source": [
        "#print(history.history.keys())\n",
        "# summarize history for accuracy\n",
        "plt.plot(history.history['accuracy'])\n",
        "plt.plot(history.history['val_accuracy'])\n",
        "plt.title('model accuracy')\n",
        "plt.ylabel('accuracy')\n",
        "plt.xlabel('epoch')\n",
        "plt.legend(['train','valid'], loc='upper left')\n",
        "plt.show()"
      ],
      "metadata": {
        "id": "W3my1BHGn0be",
        "colab": {
          "base_uri": "https://localhost:8080/",
          "height": 295
        },
        "outputId": "0ccf4d88-699f-4f20-fede-4417e8616ce3"
      },
      "execution_count": 108,
      "outputs": [
        {
          "output_type": "display_data",
          "data": {
            "text/plain": [
              "<Figure size 432x288 with 1 Axes>"
            ],
            "image/png": "[encoded data removed]"
          },
          "metadata": {
            "needs_background": "light"
          }
        }
      ]
    },
    {
      "cell_type": "code",
      "source": [
        "# summarize history for loss\n",
        "plt.plot(history.history['loss'])\n",
        "plt.title('model loss')\n",
        "plt.ylabel('loss')\n",
        "plt.xlabel('epoch')\n",
        "plt.legend(['train','valid'], loc='upper left')\n",
        "plt.show()"
      ],
      "metadata": {
        "id": "wogyd9UUn0uv",
        "colab": {
          "base_uri": "https://localhost:8080/",
          "height": 295
        },
        "outputId": "940ed84d-1a73-4274-afc1-ce15fd1f21a8"
      },
      "execution_count": 109,
      "outputs": [
        {
          "output_type": "display_data",
          "data": {
            "text/plain": [
              "<Figure size 432x288 with 1 Axes>"
            ],
            "image/png": "[encoded data removed]"
          },
          "metadata": {
            "needs_background": "light"
          }
        }
      ]
    },
    {
      "cell_type": "code",
      "source": [
        "plt.plot(history.history['val_loss'])\n",
        "plt.title('model loss')\n",
        "plt.ylabel('loss')\n",
        "plt.xlabel('epoch')\n",
        "plt.legend(['valid'], loc='upper left')\n",
        "plt.show()"
      ],
      "metadata": {
        "colab": {
          "base_uri": "https://localhost:8080/",
          "height": 295
        },
        "id": "97DF0RmW8xgJ",
        "outputId": "33ac9822-6935-4dc6-d5c4-8f7b75bf2c13"
      },
      "execution_count": 111,
      "outputs": [
        {
          "output_type": "display_data",
          "data": {
            "text/plain": [
              "<Figure size 432x288 with 1 Axes>"
            ],
            "image/png": "[encoded data removed]"
          },
          "metadata": {
            "needs_background": "light"
          }
        }
      ]
    }
  ],
  "metadata": {
    "accelerator": "GPU",
    "colab": {
      "provenance": [],
      "machine_shape": "hm"
    },
    "gpuClass": "premium",
    "kernelspec": {
      "display_name": "Python 3",
      "name": "python3"
    },
    "language_info": {
      "name": "python"
    }
  },
  "nbformat": 4,
  "nbformat_minor": 0
}