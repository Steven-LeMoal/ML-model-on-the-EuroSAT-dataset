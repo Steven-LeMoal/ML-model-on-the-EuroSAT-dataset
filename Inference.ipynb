{
  "cells": [
    {
      "cell_type": "markdown",
      "metadata": {
        "id": "LJqVZzyJvXBW"
      },
      "source": [
        "# Image Classification Task for ML Internship 2023\n",
        "\n",
        "Task - Your task is to train a ML model on the EuroSAT land cover classification dataset.\n",
        "\n",
        "Dataset link- Dataset. The dataset contains 64x64 RGB images from Sentinel-2.\n",
        "You can find references to the dataset here - https://github.com/phelber/EuroSAT\n",
        "\n",
        "Training [Jupyter notebook]: Include all steps from loading the dataset, to\n",
        "saving the model and evaluation metrics.\n",
        "\n",
        "**Plan:**\n",
        "  1. **Librairies import**\n",
        "  2. **Data loading & preprocessing**\n",
        "  4. **Model loading**\n",
        "  5. **Model testing**"
      ]
    },
    {
      "cell_type": "markdown",
      "metadata": {
        "id": "NtkGkHSxwE5J"
      },
      "source": [
        "# Librairies import"
      ]
    },
    {
      "cell_type": "code",
      "execution_count": 12,
      "metadata": {
        "colab": {
          "base_uri": "https://localhost:8080/"
        },
        "id": "pZ4EkvsiuX_z",
        "outputId": "aaac4f1d-ac26-4c9f-d23a-37bfda606e13"
      },
      "outputs": [
        {
          "output_type": "stream",
          "name": "stdout",
          "text": [
            "Drive already mounted at /content/drive; to attempt to forcibly remount, call drive.mount(\"/content/drive\", force_remount=True).\n"
          ]
        }
      ],
      "source": [
        "import tensorflow as tf\n",
        "from tensorflow.keras.preprocessing.image import ImageDataGenerator\n",
        "from keras.models import load_model\n",
        "\n",
        "import numpy as np\n",
        "import pandas as pd\n",
        "import matplotlib.pyplot as plt\n",
        "\n",
        "import os\n",
        "from google.colab import drive\n",
        "\n",
        "drive.mount('/content/drive')"
      ]
    },
    {
      "cell_type": "markdown",
      "metadata": {
        "id": "y2hqqnqrwWUt"
      },
      "source": [
        "# Data Loading & Preprocessing"
      ]
    },
    {
      "cell_type": "code",
      "execution_count": 2,
      "metadata": {
        "id": "pL92o5UOwZ1v"
      },
      "outputs": [],
      "source": [
        "#path of the dataset\n",
        "dataset_path = '/content/drive/MyDrive/dataset/2750/'"
      ]
    },
    {
      "cell_type": "code",
      "execution_count": 3,
      "metadata": {
        "id": "4lXmlVt5w3yr"
      },
      "outputs": [],
      "source": [
        "#properties of the image\n",
        "img_height = 64\n",
        "img_width = 64"
      ]
    },
    {
      "cell_type": "code",
      "source": [
        "test_file_path = \"/content/test.csv\""
      ],
      "metadata": {
        "id": "tK4a3bKGY2AS"
      },
      "execution_count": 4,
      "outputs": []
    },
    {
      "cell_type": "code",
      "source": [
        "test_df = pd.read_csv(test_file_path)"
      ],
      "metadata": {
        "id": "JQC7mXajYq8B"
      },
      "execution_count": 7,
      "outputs": []
    },
    {
      "cell_type": "code",
      "execution_count": 6,
      "metadata": {
        "id": "UNtifwh_wmt9"
      },
      "outputs": [],
      "source": [
        "# Normalize the testing set\n",
        "test_datagen = ImageDataGenerator(rescale=1./255)"
      ]
    },
    {
      "cell_type": "code",
      "source": [
        "# Create a training data generator\n",
        "test_generator = test_datagen.flow_from_dataframe(\n",
        "    dataframe=test_df,\n",
        "    directory='',\n",
        "    x_col='path',\n",
        "    y_col='label',\n",
        "    target_size=(img_height, img_width),\n",
        "    batch_size=1,\n",
        "    class_mode='categorical')"
      ],
      "metadata": {
        "colab": {
          "base_uri": "https://localhost:8080/"
        },
        "id": "ykQ-t9F-miDn",
        "outputId": "377f01d3-d4c4-4cc7-8a5c-0cc974371f1b"
      },
      "execution_count": 15,
      "outputs": [
        {
          "output_type": "stream",
          "name": "stdout",
          "text": [
            "Found 20 validated image filenames belonging to 10 classes.\n"
          ]
        }
      ]
    },
    {
      "cell_type": "markdown",
      "metadata": {
        "id": "SaP4i87awdfL"
      },
      "source": [
        "# Model compilation"
      ]
    },
    {
      "cell_type": "code",
      "execution_count": 13,
      "metadata": {
        "id": "Ht-NyHrPx_5Z"
      },
      "outputs": [],
      "source": [
        "model = load_model('/content/drive/MyDrive/best_model_EuroStar.h5')"
      ]
    },
    {
      "cell_type": "code",
      "source": [
        "# Evaluate the model on the testing data\n",
        "test_loss, test_acc = model.evaluate(test_generator)"
      ],
      "metadata": {
        "id": "wogyd9UUn0uv",
        "colab": {
          "base_uri": "https://localhost:8080/"
        },
        "outputId": "6e3679e3-7218-48d9-f65c-b88200744c5b"
      },
      "execution_count": 16,
      "outputs": [
        {
          "output_type": "stream",
          "name": "stdout",
          "text": [
            "20/20 [==============================] - 14s 251ms/step - loss: 0.4511 - accuracy: 0.9000\n"
          ]
        }
      ]
    },
    {
      "cell_type": "code",
      "source": [
        "print('Loss: %.4f, Accuracy: %.4f' % (test_loss, test_acc))"
      ],
      "metadata": {
        "colab": {
          "base_uri": "https://localhost:8080/"
        },
        "id": "g5v_Ol-gGdkB",
        "outputId": "b2db6ce2-1bf2-4fd9-8c33-5728b2fc84c2"
      },
      "execution_count": 17,
      "outputs": [
        {
          "output_type": "stream",
          "name": "stdout",
          "text": [
            "Loss: 0.4511, Accuracy: 0.9000\n"
          ]
        }
      ]
    },
    {
      "cell_type": "code",
      "source": [
        "#classes\n",
        "CLASSES = sorted(os.listdir(dataset_path))\n",
        "for i, e in enumerate(CLASSES):\n",
        "  print(f'classe {i} : {e}')"
      ],
      "metadata": {
        "colab": {
          "base_uri": "https://localhost:8080/"
        },
        "id": "knD1ofzxEjmi",
        "outputId": "6564982a-f550-4406-ae51-8455d93a829f"
      },
      "execution_count": 24,
      "outputs": [
        {
          "output_type": "stream",
          "name": "stdout",
          "text": [
            "classe 0 : AnnualCrop\n",
            "classe 1 : Forest\n",
            "classe 2 : HerbaceousVegetation\n",
            "classe 3 : Highway\n",
            "classe 4 : Industrial\n",
            "classe 5 : Pasture\n",
            "classe 6 : PermanentCrop\n",
            "classe 7 : Residential\n",
            "classe 8 : River\n",
            "classe 9 : SeaLake\n"
          ]
        }
      ]
    },
    {
      "cell_type": "code",
      "source": [
        "y_pred = model.predict(test_generator)\n",
        "y_pred = np.argmax(y_pred, axis=1)\n",
        "preds = [CLASSES[e] for e in y_pred]"
      ],
      "metadata": {
        "colab": {
          "base_uri": "https://localhost:8080/"
        },
        "id": "OAV4LZT-BWh8",
        "outputId": "2980f201-e12e-4087-e9e7-cee73a7756c0"
      },
      "execution_count": 25,
      "outputs": [
        {
          "output_type": "stream",
          "name": "stdout",
          "text": [
            "20/20 [==============================] - 0s 13ms/step\n"
          ]
        }
      ]
    },
    {
      "cell_type": "code",
      "source": [
        "preds"
      ],
      "metadata": {
        "colab": {
          "base_uri": "https://localhost:8080/"
        },
        "id": "a_72rYDeGrhz",
        "outputId": "33c09fd3-fe81-40e5-8364-26dfce307b79"
      },
      "execution_count": 26,
      "outputs": [
        {
          "output_type": "execute_result",
          "data": {
            "text/plain": [
              "['Highway',\n",
              " 'PermanentCrop',\n",
              " 'HerbaceousVegetation',\n",
              " 'SeaLake',\n",
              " 'AnnualCrop',\n",
              " 'AnnualCrop',\n",
              " 'Forest',\n",
              " 'Industrial',\n",
              " 'Industrial',\n",
              " 'SeaLake',\n",
              " 'AnnualCrop',\n",
              " 'AnnualCrop',\n",
              " 'Residential',\n",
              " 'AnnualCrop',\n",
              " 'PermanentCrop',\n",
              " 'Industrial',\n",
              " 'Forest',\n",
              " 'Pasture',\n",
              " 'HerbaceousVegetation',\n",
              " 'Pasture']"
            ]
          },
          "metadata": {},
          "execution_count": 26
        }
      ]
    },
    {
      "cell_type": "markdown",
      "source": [
        "Save the result"
      ],
      "metadata": {
        "id": "OWeg-Nc8FgwR"
      }
    },
    {
      "cell_type": "code",
      "source": [
        "# Create a new DataFrame with the predicted labels and image paths\n",
        "df_pred = pd.DataFrame({'path': test_df['path'],'label' : test_df['label'] ,'label_predicted': preds})\n",
        "\n",
        "# Save the DataFrame to a CSV file\n",
        "df_pred.to_csv('test_image_predictions.csv', index=False)"
      ],
      "metadata": {
        "id": "ZwCzaML2Ffx1"
      },
      "execution_count": 28,
      "outputs": []
    }
  ],
  "metadata": {
    "accelerator": "GPU",
    "colab": {
      "provenance": []
    },
    "gpuClass": "standard",
    "kernelspec": {
      "display_name": "Python 3",
      "name": "python3"
    },
    "language_info": {
      "name": "python"
    }
  },
  "nbformat": 4,
  "nbformat_minor": 0
}